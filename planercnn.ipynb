{
  "nbformat": 4,
  "nbformat_minor": 0,
  "metadata": {
    "colab": {
      "name": "planercnn.ipynb",
      "provenance": [],
      "collapsed_sections": [],
      "toc_visible": true
    },
    "kernelspec": {
      "name": "python3",
      "display_name": "Python 3"
    },
    "accelerator": "GPU"
  },
  "cells": [
    {
      "cell_type": "markdown",
      "metadata": {
        "id": "kxgHunlbCGfD",
        "colab_type": "text"
      },
      "source": [
        "<table class=\"tfo-notebook-buttons\" align=\"center\">\n",
        "    <td>\n",
        "        <a target=\"_blank\" href=\"https://colab.research.google.com/github/qerelt/planercnn/blob/master/planercnn.ipynb\"><img src=\"https://www.tensorflow.org/images/colab_logo_32px.png\" />Google Colab дээр нээх</a>\n",
        "    </td>\n",
        "    <td>\n",
        "        <a target=\"_blank\" href=\"https://github.com/qerelt/planercnn/blob/master/planercnn.ipynb\"><img src=\"https://www.tensorflow.org/images/GitHub-Mark-32px.png\" />GitHub дээр нээх</a>\n",
        "    </td>\n",
        "</table>"
      ]
    },
    {
      "cell_type": "markdown",
      "metadata": {
        "id": "IscJzhpLWdim",
        "colab_type": "text"
      },
      "source": [
        "## setting cuda version to 9.0"
      ]
    },
    {
      "cell_type": "code",
      "metadata": {
        "id": "D8xSom98d1-G",
        "colab_type": "code",
        "colab": {}
      },
      "source": [
        "!wget https://developer.nvidia.com/compute/cuda/9.0/Prod/local_installers/cuda-repo-ubuntu1604-9-0-local_9.0.176-1_amd64-deb\n",
        "!dpkg -i cuda-repo-ubuntu1604-9-0-local_9.0.176-1_amd64-deb\n",
        "!sudo apt-key add /var/cuda-repo-9-0-local/7fa2af80.pub\n",
        "!sudo apt-get update\n",
        "!sudo apt-get install cuda=9.0.176-1\n",
        "\n",
        "!git clone https://github.com/phohenecker/switch-cuda.git\n",
        "!source switch-cuda/switch-cuda.sh 9.0"
      ],
      "execution_count": 0,
      "outputs": []
    },
    {
      "cell_type": "markdown",
      "metadata": {
        "id": "Twjr6OIhWuMb",
        "colab_type": "text"
      },
      "source": [
        "## setting gcc version to 5"
      ]
    },
    {
      "cell_type": "code",
      "metadata": {
        "id": "aw-7dOxdSPuH",
        "colab_type": "code",
        "colab": {}
      },
      "source": [
        "!sudo apt install g++-5\n",
        "\n",
        "!sudo update-alternatives --remove-all gcc \n",
        "!sudo update-alternatives --remove-all g++\n",
        "\n",
        "!sudo update-alternatives --install /usr/bin/gcc gcc /usr/bin/gcc-5 20\n",
        "!sudo update-alternatives --install /usr/bin/g++ g++ /usr/bin/g++-5 20\n",
        "\n",
        "!sudo update-alternatives --install /usr/bin/cc cc /usr/bin/gcc 30\n",
        "!sudo update-alternatives --set cc /usr/bin/gcc\n",
        "\n",
        "!sudo update-alternatives --install /usr/bin/c++ c++ /usr/bin/g++ 30\n",
        "!sudo update-alternatives --set c++ /usr/bin/g++\n",
        "\n",
        "!gcc -v"
      ],
      "execution_count": 0,
      "outputs": []
    },
    {
      "cell_type": "markdown",
      "metadata": {
        "id": "G1hClWFfXo7I",
        "colab_type": "text"
      },
      "source": [
        "## cloning planercnn and building python environment"
      ]
    },
    {
      "cell_type": "code",
      "metadata": {
        "id": "DI2fzZ9_Pd7K",
        "colab_type": "code",
        "colab": {}
      },
      "source": [
        "!git clone https://github.com/qerelt/planercnn.git\n",
        "%cd planercnn/checkpoint/\n",
        "!wget https://www.dropbox.com/s/yjcg6s57n581sk0/checkpoint.zip\n",
        "!unzip checkpoint.zip\n",
        "%cd ../\n",
        "!pip install -r requirements.txt\n",
        "%ls"
      ],
      "execution_count": 0,
      "outputs": []
    },
    {
      "cell_type": "code",
      "metadata": {
        "id": "jmgy6q0tfU9y",
        "colab_type": "code",
        "colab": {}
      },
      "source": [
        "# %cd ..\n",
        "# !rm -r planercnn\n",
        "%ls"
      ],
      "execution_count": 0,
      "outputs": []
    },
    {
      "cell_type": "markdown",
      "metadata": {
        "id": "jo4KL0u9qxcp",
        "colab_type": "text"
      },
      "source": [
        "After the step above, we need to **restart runtime**\n",
        "\n",
        "so that our cuda & gcc environment stays the same\n",
        "\n",
        "while our python environment gets the right versions of requirements installed"
      ]
    },
    {
      "cell_type": "markdown",
      "metadata": {
        "id": "p0ykg15NqyiW",
        "colab_type": "text"
      },
      "source": [
        "## building nms and roi_align"
      ]
    },
    {
      "cell_type": "code",
      "metadata": {
        "id": "u5SgtOeqQX4j",
        "colab_type": "code",
        "colab": {}
      },
      "source": [
        "%cd content/planercnn/nms/src/cuda/\n",
        "!nvcc -c -o nms_kernel.cu.o nms_kernel.cu -x cu -Xcompiler -fPIC -arch=sm_37\n",
        "%cd ../../\n",
        "!python build.py\n",
        "%cd ../\n",
        "%cd roialign/roi_align/src/cuda/\n",
        "!nvcc -c -o crop_and_resize_kernel.cu.o crop_and_resize_kernel.cu -x cu -Xcompiler -fPIC -arch=sm_37\n",
        "%cd ../../\n",
        "!python build.py\n",
        "%cd ../../"
      ],
      "execution_count": 0,
      "outputs": []
    },
    {
      "cell_type": "markdown",
      "metadata": {
        "id": "nF1GENnUq630",
        "colab_type": "text"
      },
      "source": [
        "## evaluating example images"
      ]
    },
    {
      "cell_type": "code",
      "metadata": {
        "id": "WO9IUNXTYzMG",
        "colab_type": "code",
        "colab": {}
      },
      "source": [
        "!python evaluate.py --methods=f --suffix=warping_refine --dataset=inference --customDataFolder=example_images"
      ],
      "execution_count": 0,
      "outputs": []
    },
    {
      "cell_type": "code",
      "metadata": {
        "id": "1o6moieswksS",
        "colab_type": "code",
        "colab": {}
      },
      "source": [
        "!zip homepod.zip test/inference/*_final.png"
      ],
      "execution_count": 0,
      "outputs": []
    }
  ]
}